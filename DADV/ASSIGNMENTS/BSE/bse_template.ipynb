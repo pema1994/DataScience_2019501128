{
 "cells": [
  {
   "cell_type": "code",
   "execution_count": 9,
   "metadata": {},
   "outputs": [],
   "source": [
    "import pandas as pd\n",
    "import os\n",
    "import numpy as np\n",
    "from itertools import combinations\n",
    "from matplotlib import pyplot as plt\n",
    "import pdfcrowd"
   ]
  },
  {
   "cell_type": "markdown",
   "metadata": {},
   "source": [
    "# Draw a sparkline showing the data 23,80,92,62,98,7,9,56,19,68.\n"
   ]
  },
  {
   "cell_type": "code",
   "execution_count": 10,
   "metadata": {},
   "outputs": [],
   "source": [
    "import base64\n",
    "import io\n",
    "\n",
    "\n",
    "def spark_line(data, figsize=(4, 0.25), **kwags):\n",
    "    data = list(data)\n",
    "\n",
    "    fig, ax = plt.subplots(1, 1, figsize=figsize, **kwags)\n",
    "    ax.plot(data)\n",
    "    for k,v in ax.spines.items():\n",
    "        v.set_visible(False)\n",
    "    ax.set_xticks([])\n",
    "    ax.set_yticks([])\n",
    "\n",
    "    plt.plot(len(data) - 1, data[len(data) - 1], 'r.')\n",
    "\n",
    "    ax.fill_between(range(len(data)), data, len(data)*[min(data)], alpha=0.1)\n",
    "\n",
    "    img = io.BytesIO()\n",
    "    plt.savefig(img, transparent=True, bbox_inches='tight')\n",
    "    img.seek(0)\n",
    "    plt.close()\n",
    "\n",
    "    return base64.b64encode(img.read()).decode(\"UTF-8\")"
   ]
  },
  {
   "cell_type": "code",
   "execution_count": 11,
   "metadata": {},
   "outputs": [],
   "source": [
    "values = [23,80,92,62,98,7,9,56,19,68]\n",
    "\n",
    "\n",
    "with open(\"sparkline2.html\", \"a\") as file:\n",
    "        file.write('<div><h1>Sparkline to the given values</h1></div>')\n",
    "        file.write('<br>')\n",
    "        file.write('<br>')\n",
    "        file.write('<div><img src=\"data:image/png;base64,{}\"/></div>'.format(spark_line(values)))\n",
    "        file.write('<div></div>')"
   ]
  },
  {
   "cell_type": "markdown",
   "metadata": {},
   "source": [
    "# For each stock, draw a sparkline showing last month's closing price trend"
   ]
  },
  {
   "cell_type": "code",
   "execution_count": 12,
   "metadata": {},
   "outputs": [],
   "source": [
    "closing_price_values = list()\n",
    "for file in os.listdir():\n",
    "    if file.endswith('.csv') and file.startswith(\"5\"):\n",
    "        filename = os.path.splitext(file)[0]\n",
    "        if not filename.isdecimal() :\n",
    "            continue\n",
    "        df = pd.read_csv(file,thousands=\",\")\n",
    "        try:\n",
    "            closing_price_values.append(df[\"Close\"][0:30].values)\n",
    "        except Exception as e:\n",
    "            closing_price_values.append(df[\"Close Price\"][0:30].values)\n",
    "\n",
    "with open(\"bse_closing_price3.html\", \"a\") as file:\n",
    "    file.write('<div><h1>Sparkline to the Closing Price values</h1></div>')\n",
    "    file.write('<br>')\n",
    "    file.write('<br>')\n",
    "    for value in closing_price_values:\n",
    "        file.write('<div><img src=\"data:image/png;base64,{}\"/></div>'.format(spark_line(value)))\n",
    "        file.write('<div></div>')"
   ]
  },
  {
   "cell_type": "markdown",
   "metadata": {},
   "source": [
    "# Convert these files into PDF without using a browser"
   ]
  },
  {
   "cell_type": "code",
   "execution_count": 13,
   "metadata": {},
   "outputs": [],
   "source": [
    "client = pdfcrowd.HtmlToPdfClient('demo', 'ce544b6ea52a5621fb9d55f8b542d14d')\n",
    "client.convertFileToFile('bse_closing_price3.html', 'bse_closing_price3.pdf')"
   ]
  },
  {
   "cell_type": "code",
   "execution_count": null,
   "metadata": {},
   "outputs": [],
   "source": []
  }
 ],
 "metadata": {
  "kernelspec": {
   "display_name": "Python 3",
   "language": "python",
   "name": "python3"
  },
  "language_info": {
   "codemirror_mode": {
    "name": "ipython",
    "version": 3
   },
   "file_extension": ".py",
   "mimetype": "text/x-python",
   "name": "python",
   "nbconvert_exporter": "python",
   "pygments_lexer": "ipython3",
   "version": "3.8.5"
  }
 },
 "nbformat": 4,
 "nbformat_minor": 4
}
