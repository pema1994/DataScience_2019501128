{
 "cells": [
  {
   "cell_type": "code",
   "execution_count": 1,
   "metadata": {},
   "outputs": [
    {
     "name": "stderr",
     "output_type": "stream",
     "text": [
      "\n",
      "\n",
      "====== WebDriver manager ======\n",
      "Current google-chrome version is 91.0.4472\n",
      "Get LATEST driver version for 91.0.4472\n",
      "Driver [/Users/pemawangmo/.wdm/drivers/chromedriver/mac64/91.0.4472.101/chromedriver] found in cache\n"
     ]
    }
   ],
   "source": [
    "import pandas as pd\n",
    "import os\n",
    "import numpy as np\n",
    "from itertools import combinations\n",
    "from matplotlib import pyplot as plt\n",
    "import pdfcrowd\n",
    "from ipynb.fs.full.bse_Scrape import security_names"
   ]
  },
  {
   "cell_type": "markdown",
   "metadata": {},
   "source": [
    "# Identify the stock most correlated with ICICI Bank's stockprice"
   ]
  },
  {
   "cell_type": "code",
   "execution_count": 16,
   "metadata": {},
   "outputs": [
    {
     "data": {
      "text/html": [
       "<div>\n",
       "<style scoped>\n",
       "    .dataframe tbody tr th:only-of-type {\n",
       "        vertical-align: middle;\n",
       "    }\n",
       "\n",
       "    .dataframe tbody tr th {\n",
       "        vertical-align: top;\n",
       "    }\n",
       "\n",
       "    .dataframe thead th {\n",
       "        text-align: right;\n",
       "    }\n",
       "</style>\n",
       "<table border=\"1\" class=\"dataframe\">\n",
       "  <thead>\n",
       "    <tr style=\"text-align: right;\">\n",
       "      <th></th>\n",
       "      <th>security</th>\n",
       "      <th>correlation</th>\n",
       "    </tr>\n",
       "  </thead>\n",
       "  <tbody>\n",
       "    <tr>\n",
       "      <th>53</th>\n",
       "      <td>500112</td>\n",
       "      <td>0.090095</td>\n",
       "    </tr>\n",
       "    <tr>\n",
       "      <th>25</th>\n",
       "      <td>500049</td>\n",
       "      <td>0.089473</td>\n",
       "    </tr>\n",
       "    <tr>\n",
       "      <th>4</th>\n",
       "      <td>500010</td>\n",
       "      <td>0.088603</td>\n",
       "    </tr>\n",
       "    <tr>\n",
       "      <th>93</th>\n",
       "      <td>500187</td>\n",
       "      <td>0.083852</td>\n",
       "    </tr>\n",
       "    <tr>\n",
       "      <th>87</th>\n",
       "      <td>500180</td>\n",
       "      <td>0.082222</td>\n",
       "    </tr>\n",
       "  </tbody>\n",
       "</table>\n",
       "</div>"
      ],
      "text/plain": [
       "   security  correlation\n",
       "53   500112     0.090095\n",
       "25   500049     0.089473\n",
       "4    500010     0.088603\n",
       "93   500187     0.083852\n",
       "87   500180     0.082222"
      ]
     },
     "execution_count": 16,
     "metadata": {},
     "output_type": "execute_result"
    }
   ],
   "source": [
    "icici_bank = \"532174\"\n",
    "df_icici_bank = pd.read_csv(icici_bank + \".csv\",thousands = \",\")\n",
    "\n",
    "stock_corr = {}\n",
    "for root,dirs,files in os.walk(os.curdir):\n",
    "    for file in files:\n",
    "        if file.endswith('.csv') and file.startswith(\"5\"):\n",
    "            name = os.path.splitext(file)[0]\n",
    "            if name == icici_bank:\n",
    "                continue\n",
    "            df = pd.read_csv(file, thousands = \",\")\n",
    "            cor = df_icici_bank[\"Total Turnover (Rs.)\"].corr(df[\"Total Turnover (Rs.)\"])\n",
    "            stock_corr[name] = cor\n",
    "\n",
    "icici_corr = pd.DataFrame(stock_corr.items(),columns = [\"security\", \"correlation\"])\n",
    "icici_corr = icici_corr.sort_values(by = \"correlation\", ascending = False)\n",
    "icici_corr.head()"
   ]
  }
 ],
 "metadata": {
  "kernelspec": {
   "display_name": "Python 3",
   "language": "python",
   "name": "python3"
  },
  "language_info": {
   "codemirror_mode": {
    "name": "ipython",
    "version": 3
   },
   "file_extension": ".py",
   "mimetype": "text/x-python",
   "name": "python",
   "nbconvert_exporter": "python",
   "pygments_lexer": "ipython3",
   "version": "3.8.5"
  }
 },
 "nbformat": 4,
 "nbformat_minor": 4
}
