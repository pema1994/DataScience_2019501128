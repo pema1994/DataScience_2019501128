{
 "cells": [
  {
   "cell_type": "code",
   "execution_count": 3,
   "metadata": {},
   "outputs": [],
   "source": [
    "import requests\n",
    "import urllib\n",
    "from bs4 import BeautifulSoup\n",
    "import re\n",
    "import io\n",
    "import gzip\n",
    "import time\n",
    "import csv\n",
    "import os\n",
    "from selenium import webdriver\n",
    "from selenium.webdriver.common.keys import Keys\n",
    "from webdriver_manager.chrome import ChromeDriverManager\n",
    "import pandas as pd\n",
    "\n",
    "\n",
    "\n",
    "def scrape_weekly(sym):\n",
    "    print(sym)\n",
    "    url = \"https://query1.finance.yahoo.com/v7/finance/download/\"+sym+\"?period1=1451692800&period2=1609545600&interval=1wk&events=history&includeAdjustedClose=true\"\n",
    "    response = requests.get(url)\n",
    "    bytes_io = io.BytesIO(response.content)\n",
    "    df_weekly = pd.read_csv(bytes_io, error_bad_lines=False)\n",
    "    df_weekly.to_csv(sym + \"_weekly.csv\")"
   ]
  },
  {
   "cell_type": "code",
   "execution_count": null,
   "metadata": {},
   "outputs": [
    {
     "name": "stderr",
     "output_type": "stream",
     "text": [
      "\n",
      "\n",
      "====== WebDriver manager ======\n",
      "Current google-chrome version is 91.0.4472\n",
      "Get LATEST driver version for 91.0.4472\n",
      "Driver [/Users/pemawangmo/.wdm/drivers/chromedriver/mac64/91.0.4472.101/chromedriver] found in cache\n"
     ]
    },
    {
     "name": "stdout",
     "output_type": "stream",
     "text": [
      "505\n"
     ]
    }
   ],
   "source": [
    "import requests\n",
    "import urllib\n",
    "from bs4 import BeautifulSoup\n",
    "import re\n",
    "import io\n",
    "import gzip\n",
    "import time\n",
    "import csv\n",
    "import os\n",
    "from selenium import webdriver\n",
    "from selenium.webdriver.common.keys import Keys\n",
    "from webdriver_manager.chrome import ChromeDriverManager\n",
    "from multiprocessing import Pool\n",
    "import pandas as pd\n",
    "#from ipynb.fs.full.scrape_weekly import scrape_weekly\n",
    "\n",
    "driver = webdriver.Chrome(ChromeDriverManager().install())\n",
    "url = \"https://en.wikipedia.org/wiki/List_of_S%26P_500_companies\"\n",
    "driver.get(url)\n",
    "\n",
    "symbols = list()\n",
    "symbols_GICC = dict()\n",
    "\n",
    "table = \"/html/body/div[3]/div[3]/div[5]/div[1]/table[1]\"\n",
    "table = driver.find_element_by_xpath(table)\n",
    "elements = table.find_elements_by_tag_name(\"tr\")[1:]\n",
    "\n",
    "for row in elements:\n",
    "    data = [data.text for data in row.find_elements_by_tag_name(\"td\")]\n",
    "    symbols.append(data[0])\n",
    "    symbols_GICC[data[0]] = data[3]\n",
    "\n",
    "print(len(symbols_GICC))\n",
    "    \n",
    "\n",
    "if __name__ == '__main__':\n",
    "    p = Pool(50)\n",
    "    df_daily_list = p.map(scrape_weekly, symbols)\n",
    "    p.close()"
   ]
  },
  {
   "cell_type": "code",
   "execution_count": null,
   "metadata": {},
   "outputs": [],
   "source": []
  }
 ],
 "metadata": {
  "kernelspec": {
   "display_name": "Python 3",
   "language": "python",
   "name": "python3"
  },
  "language_info": {
   "codemirror_mode": {
    "name": "ipython",
    "version": 3
   },
   "file_extension": ".py",
   "mimetype": "text/x-python",
   "name": "python",
   "nbconvert_exporter": "python",
   "pygments_lexer": "ipython3",
   "version": "3.8.5"
  }
 },
 "nbformat": 4,
 "nbformat_minor": 4
}
